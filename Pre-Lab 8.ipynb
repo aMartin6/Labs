{
 "cells": [
  {
   "cell_type": "markdown",
   "metadata": {},
   "source": [
    "# Pre-Lab 8\n",
    "\n",
    "## Section 6.3.4: Binary Search\n",
    "\n",
    "* **Binary search** or the **bisection method** is a way to find multiple solutions to nonlinear equations. This method only searches within a spcified range, and if there is a solution in this range, it is always found.\n",
    "* Binary search works by rearranging the equation so that f(x) = 0, and finding the roots. \n",
    "* If there is a single root between points x1 and x2, then f(x1) and f(x2) must have opposite signs.\n",
    "* Let x' be the point half way in between x1 and x2. If f(x') = 0, this is the solution, and if f(x') has an opposite sign as f(x1) then x1 and x' bracket the solution.\n",
    "* Repeat this process of finding the point halfway in between the previous bracket points, and narrowing the range to the desired accuracy.\n",
    "* The error decreses exponentially with each step. $N = log_2\\frac{\\delta}{\\epsilon}$ where n is the number of steps and $\\delta$ is the distance between x1 and x2.\n",
    "    * N will be relatively sall even if $delta$ is very large.\n",
    "* This method will not work if there are an even number of roots in the interval, which would cause x1 and x2 to have the same sign.\n",
    "* Most of the time, it is sufficient to find any pair of x values that have a different sign, but there is no universal way to do this. \n",
    "     * Use facts you know about the equation to estimate which vaules must be positive and which must be negative.\n",
    "     * If you are looking for a root near a specific x, choose x1 and x2 to be closely spaced around that x.\n",
    "* Another time this method can fail is when the function only touches the x axis, but does not cross it. \n",
    "* Another drawback is that this method only works for one equation and one solution at a time. \n",
    "\n",
    "## Section 6.3.5: Newton's Method\n",
    "\n",
    "* Newton's method is similat to the binary search method in that we are looking for a root. First choose a single value of x to start with, and then use the slope at f(x) to calucate a new x'. Normally x' will be closer to the root. \n",
    "* Use formulas $f'(x) = \\frac{f(x)}{\\delta x}$ and $x' = x - \\delta x$ to calculate $\\delta x$.\n",
    "    * All we need here is the derivative at f(x) and an initial guess of x.\n",
    "* It is often adequite to run the algorithm until the value stops changing within a spcified number of decimal places. \n",
    "* If $x*$ is equal to the root, then the error can be calcuated by rearranging the taylor series and using the fact that $f(x*) = 0$, $x* = x' - 1/2(x* - x)^2\\frac{f''(x)}{f'(x)} +...$\n",
    "* The error, $\\epsilon ' = \\frac{-f''(x)}{2f'(x)}\\epsilon^2$, so that $x* = x' + \\epsilon '$. This means Newton's method has quadratic convergence, so it converges must faster than the other methods. \n",
    "* The error can be approximated $\\epsilon = x' - x$ if $\\epsilon$ is small.\n",
    "* One problem is that this method does not always converge. Sometimes epsolon will get larger. "
   ]
  },
  {
   "cell_type": "markdown",
   "metadata": {},
   "source": [
    "## Example 6.3: Ferromagnetism"
   ]
  },
  {
   "cell_type": "code",
   "execution_count": 1,
   "metadata": {},
   "outputs": [
    {
     "data": {
      "image/png": "[encoded data removed]",
      "text/plain": [
       "<matplotlib.figure.Figure at 0x1dfcda3c9b0>"
      ]
     },
     "metadata": {},
     "output_type": "display_data"
    }
   ],
   "source": [
    "# This code uses the relaxation method to plot the magnetization of a farromagmetic material vs temperature \n",
    "\n",
    "from math import tanh, cosh\n",
    "from numpy import linspace \n",
    "from pylab import plot, show, ylim, xlabel, ylabel\n",
    "\n",
    "# Constants\n",
    "Tmax = 2.0\n",
    "points = 1000\n",
    "accuracy = 1e-6\n",
    "\n",
    "# Set up lists for plotting\n",
    "y = []\n",
    "temp = linspace (0.01, Tmax, points)\n",
    "\n",
    "# Temperature loop\n",
    "for T in temp:\n",
    "    m1 = 1.0\n",
    "    error = 1.0\n",
    "    \n",
    "    # Relaxation method: loop until error is small enough\n",
    "    while error > accuracy:\n",
    "        m1, m2 = tanh(m1/T), m1\n",
    "        error = abs((m1-m2)/(1 - T * cosh(m1/T)**2))\n",
    "    y.append(m1)\n",
    "    \n",
    "# Make the graph\n",
    "plot (temp, y)\n",
    "ylim (-0.1, 1.1)\n",
    "xlabel (\"Temperature\")\n",
    "ylabel (\"Magmetization\")\n",
    "show ()"
   ]
  },
  {
   "cell_type": "code",
   "execution_count": null,
   "metadata": {
    "collapsed": true
   },
   "outputs": [],
   "source": []
  }
 ],
 "metadata": {
  "kernelspec": {
   "display_name": "Python 3",
   "language": "python",
   "name": "python3"
  },
  "language_info": {
   "codemirror_mode": {
    "name": "ipython",
    "version": 3
   },
   "file_extension": ".py",
   "mimetype": "text/x-python",
   "name": "python",
   "nbconvert_exporter": "python",
   "pygments_lexer": "ipython3",
   "version": "3.6.3"
  }
 },
 "nbformat": 4,
 "nbformat_minor": 2
}
