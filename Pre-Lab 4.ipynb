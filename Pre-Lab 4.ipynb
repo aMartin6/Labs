{
 "cells": [
  {
   "cell_type": "markdown",
   "metadata": {},
   "source": [
    "# Pre-Lab 4"
   ]
  },
  {
   "cell_type": "markdown",
   "metadata": {
    "collapsed": true
   },
   "source": [
    "## Reading"
   ]
  },
  {
   "cell_type": "markdown",
   "metadata": {},
   "source": [
    "### Section 5.2"
   ]
  },
  {
   "cell_type": "markdown",
   "metadata": {},
   "source": [
    "* The main source of error for integration in Python is **approximation error**.\n",
    "* To find this error, we can create a taylor series for each slice, and add them together. The first term in the taylor series is what is calculated using the trapezoidal rule, and the rest are equal to the error.\n",
    "    * The error is denoted O(h^n) where the series is truncated after the nth term\n",
    "* Through cancelling out terms in the taylor exapansion, we can rearange the error formula into the Euler Maclauren formula.\n",
    "* The first term in the **Euler-Maclauren formula** is epsilon = (1/12) * h^2 * [f'(a) - f'(b)]. The rest of the terms represent the rest of the even orders of h: h^4, H^6, ...\n",
    "    * Usually if h is small, its pretty accurate to neglect the h^4 and higher terms.\n",
    "* The rounding error is about C times the value of the integral, where the approximation constant C = 10^(-16) approximately.\n",
    "* The integration reaches _macheine precision_ when N = 10^8 approximately. This means that the rounding error becomes bigger than the approximation error, so there is no need to have a larger N.\n",
    "* For Simpson's rule epsilon = (1/90) * h^4 * [f'''(a) - f'''(b)]. \n",
    "* Using Simpson's rule, the integration reaches macheine precision around N = 10000.\n",
    "* Simpson's rule noramlly give us a better approximation, but not always."
   ]
  },
  {
   "cell_type": "markdown",
   "metadata": {},
   "source": [
    "#### 5.2.1"
   ]
  },
  {
   "cell_type": "markdown",
   "metadata": {},
   "source": [
    "* There is a trick for finding the error when you can't take the integral of the function.\n",
    "    * First perform the integral, I1, with N1 slices.\n",
    "    * Then do it again with N2 slices where N2 = 2N1 and get I2.\n",
    "    * The error of the second integral is about equal to (1/3) * abs(I2 - I1).\n",
    "    * For simpson's rule, epsilon = (1/15)(I2 - I1)"
   ]
  },
  {
   "cell_type": "markdown",
   "metadata": {},
   "source": [
    "### Section 5.3"
   ]
  },
  {
   "cell_type": "markdown",
   "metadata": {},
   "source": [
    "* Generally for integrals, we want to pick an accuracy that is no greater than what we need. \n",
    "* One way to acheive this is to start with a small N value and double it until we have acheived the desired accuracy.\n",
    "    * We can calculate epsilon at each step using epsilon_i = (1/3) * (Ii - I(i-1))\n",
    "* When we double N, we can consider the new set of points where the interval is segmented to be _nested_ inside the origional set. \n",
    "* To calculate a new esimate, Ii, with twice as many slices as the one before it, I(i-1) use the equation: Ii = (1/2) * I(i-1) + hi * sum(k odd)(f(a + k * hi))\n",
    "* To find the appropriate N value, do this calculation multiple times, calcualting epsilon each time, until the desired epsilon is reached. \n",
    "* For simpson's rule: \n",
    "    * epsilon_i = (1/15) * (Ii - I(i-1))\n",
    "    * Ii = hi * (1/3 * (f(a) + f(b) + 2 * sum(k even)(f(a + k * hi))) + 2 * sum(k odd)(f(a + k * hi)))"
   ]
  },
  {
   "cell_type": "markdown",
   "metadata": {},
   "source": [
    "## Exercise 5.1 p. 143"
   ]
  },
  {
   "cell_type": "code",
   "execution_count": null,
   "metadata": {
    "collapsed": true
   },
   "outputs": [],
   "source": []
  },
  {
   "cell_type": "markdown",
   "metadata": {},
   "source": [
    "## Exercise 5.3 p. 147"
   ]
  },
  {
   "cell_type": "markdown",
   "metadata": {},
   "source": [
    "## Exercise 5.4 p. 148"
   ]
  },
  {
   "cell_type": "markdown",
   "metadata": {},
   "source": [
    "## Exercise 5.9 p. 172"
   ]
  },
  {
   "cell_type": "code",
   "execution_count": null,
   "metadata": {
    "collapsed": true
   },
   "outputs": [],
   "source": []
  }
 ],
 "metadata": {
  "kernelspec": {
   "display_name": "Python 3",
   "language": "python",
   "name": "python3"
  },
  "language_info": {
   "codemirror_mode": {
    "name": "ipython",
    "version": 3
   },
   "file_extension": ".py",
   "mimetype": "text/x-python",
   "name": "python",
   "nbconvert_exporter": "python",
   "pygments_lexer": "ipython3",
   "version": "3.6.3"
  }
 },
 "nbformat": 4,
 "nbformat_minor": 2
}
