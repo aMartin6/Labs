{
 "cells": [
  {
   "cell_type": "markdown",
   "metadata": {},
   "source": [
    "# Pre-Lab 9\n",
    "\n",
    "## Section 8.3: Second-Order Differential Equations\n",
    "\n",
    "* Most physics equations are second order.\n",
    "* The general form of a second order differential equation is $\\frac{d^2x}{dt^2} = f \\big (x,\\frac {dx}{dt},t\\big)$\n",
    "* A handy trick is to substitute dx/dy = y and solve for dz/dt = f(x,y,t).\n",
    "    * We can also apply this ot higher order equations with multiple substitutions.\n",
    "* For a second-order DE, we can generalize the equation to vector form to accomofate multiple dependent variables: $\\frac{d^2r}{dt^2} = f \\big (r,\\frac {dr}{dt},t\\big)$ or d**r**/dy = **s** and d**s**/dt = **f**(**r**,**s**,t), where **f r** and **s** are vectors. "
   ]
  },
  {
   "cell_type": "code",
   "execution_count": null,
   "metadata": {
    "collapsed": true
   },
   "outputs": [],
   "source": []
  }
 ],
 "metadata": {
  "kernelspec": {
   "display_name": "Python 3",
   "language": "python",
   "name": "python3"
  },
  "language_info": {
   "codemirror_mode": {
    "name": "ipython",
    "version": 3
   },
   "file_extension": ".py",
   "mimetype": "text/x-python",
   "name": "python",
   "nbconvert_exporter": "python",
   "pygments_lexer": "ipython3",
   "version": "3.6.3"
  }
 },
 "nbformat": 4,
 "nbformat_minor": 2
}
