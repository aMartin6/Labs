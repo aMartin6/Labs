{
 "cells": [
  {
   "cell_type": "markdown",
   "metadata": {},
   "source": [
    "# Pre-Lab 7"
   ]
  },
  {
   "cell_type": "markdown",
   "metadata": {},
   "source": [
    "## Section 6.1.4: LU Decomposition"
   ]
  },
  {
   "cell_type": "markdown",
   "metadata": {},
   "source": [
    "* The **LU decompostition** is a method that performs a transform on matrix **A**, and this same trasform can be used on multiple vectors **v** witout having to re-calcuate A.\n",
    "* Matrix operations can be recorded in the form of a metrix, **L**0 that when multiplied by the origional matrix gives us the trasformed matrix. \n",
    "    * This matrix will always be lower triangular\n",
    "* **L**1 - **L**3 represent the rest of the rest of the matrix operations.\n",
    "* If we multilpy both sides by all of these operations, we get **L**3**L**2**L**1**L**0**Ax** = **L**3**L**2**L**1**L**0**v**. This puts the matrix into upper trianguar form.\n",
    "* Usint this method, we only need to calcualte **L**3**L**2**L**1**L**0**A** once.\n",
    "* To use this in code, define the marticies: **L** = **L**0^-1**L**1^-1**L**2^-1**L**3^-1 and **U** = **L**3**L**2**L**1**L**0**A**. That way **LU** = **A** and **LUx** = **v**.\n",
    "    * **L** is lower triangualr and **U** is upper triangular.\n",
    "* Define **y** = **Ux**, which gives **Ly** = **v**.\n",
    "    * The second equation is solved for y by matrix multiplication, and then y can be subsituted into the first equation, which can the be solved with back substitution.\n",
    "* It is important to incorporate pivoting.\n",
    "* The python functions for solving systems of equations are in _numpy.lintag_. The function _solve_ solved linear systems of equations."
   ]
  },
  {
   "cell_type": "markdown",
   "metadata": {},
   "source": [
    "## Section 6.1.5: Calculating the Inverse of a Matrix"
   ]
  },
  {
   "cell_type": "markdown",
   "metadata": {},
   "source": [
    "* One way to calcualte the inverse of a matrix is to turn the calcuation into a set of simulatious equations and use the previous method to solve. \n",
    "* To do this, use **AX** = **V** where **X** and **V** are N x N matricies, and solve for each column of **X** seperately in terms of the columns of **V**.\n",
    "* This is easiest if we set **V** equal to the identity matrix. \n",
    "* The function _inv_ does this calcualtion for us."
   ]
  },
  {
   "cell_type": "markdown",
   "metadata": {},
   "source": [
    "## Section 6.1.6: Tridiagonal and Banned Matricies"
   ]
  },
  {
   "cell_type": "markdown",
   "metadata": {},
   "source": [
    "* In a **tridiagonal matrix** the only nonzero elements are on the diagonal, and immediately above and below it. \n",
    "* These do not require full Gaussian elimination. Each row only needs to be subtraced from the row immediately below it.\n",
    "* This kind of Gaussian elimination can be called the _Thomas algorithm_. This is usually much faster than using the _solve_ function.\n",
    "* **Banded matricies** are similar to tridiagonal matricies, but they can have more than one nonzero element to either side of the diagonal.\n",
    "* With banded matricies, if there are m nonzero elements below the diagonal, then each row must be subtracted from the m rows below it. This can still be much faster than using the _solve_ function."
   ]
  },
  {
   "cell_type": "code",
   "execution_count": null,
   "metadata": {
    "collapsed": true
   },
   "outputs": [],
   "source": []
  }
 ],
 "metadata": {
  "kernelspec": {
   "display_name": "Python 3",
   "language": "python",
   "name": "python3"
  },
  "language_info": {
   "codemirror_mode": {
    "name": "ipython",
    "version": 3
   },
   "file_extension": ".py",
   "mimetype": "text/x-python",
   "name": "python",
   "nbconvert_exporter": "python",
   "pygments_lexer": "ipython3",
   "version": "3.6.3"
  }
 },
 "nbformat": 4,
 "nbformat_minor": 2
}
