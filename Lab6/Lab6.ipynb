{
 "cells": [
  {
   "cell_type": "markdown",
   "metadata": {},
   "source": [
    "# Lab 6"
   ]
  },
  {
   "cell_type": "markdown",
   "metadata": {},
   "source": [
    "## Exercise 5.12: The Stefan-Boltzmann Constant"
   ]
  },
  {
   "cell_type": "markdown",
   "metadata": {},
   "source": [
    "Part a)\n",
    "\n",
    "\\begin{equation*}\n",
    "I(\\omega) = \\frac{\\hbar}{4\\pi^2c^2} \\frac{\\omega}{e^k{\\frac{\\hbar\\omega}{k_BT}}}\n",
    "\\end{equation*}\n",
    "\n",
    "\\begin{equation*}\n",
    "W =\\int_{0}^{\\infty} \\frac{\\hbar}{4\\pi^2c^2} \\frac{\\omega}{e^k{\\frac{\\hbar\\omega}{k_BT}}}d\\omega\n",
    "\\end{equation*}\n",
    "\n",
    "\\begin{equation*}\n",
    "x = \\frac{\\hbar\\omega}{k_BT}\n",
    "\\end{equation*}\n",
    "\n",
    "\\begin{equation*}\n",
    "dx = \\frac{\\hbar d\\omega}{k_BT} \\space \\space d\\omega = \\frac{k_BTdx}{\\hbar}\n",
    "\\end{equation*}\n",
    "\n",
    "\\begin{equation*}\n",
    "W =\\int_{0}^{\\infty} \\frac{\\hbar}{4\\pi^2c^2} \\frac{(\\frac{xk_bT}{\\hbar})^3}{e^x}\\frac{k_BT}{\\hbar}dx\n",
    "\\end{equation*}\n",
    "\n",
    "\\begin{equation*}\n",
    "W =\\frac{k_b^4T^4}{4\\pi^2c^2\\hbar^3}\\int_{0}^{\\infty}\\frac{x^3}{e^x}dx\n",
    "\\end{equation*}\n"
   ]
  },
  {
   "cell_type": "markdown",
   "metadata": {},
   "source": [
    "Part b)"
   ]
  },
  {
   "cell_type": "code",
   "execution_count": 62,
   "metadata": {
    "collapsed": true
   },
   "outputs": [],
   "source": [
    "%matplotlib inline\n",
    "from scipy import integrate\n",
    "import math\n",
    "import cmath\n",
    "import numpy as np\n",
    "import pylab as plt"
   ]
  },
  {
   "cell_type": "code",
   "execution_count": 63,
   "metadata": {},
   "outputs": [
    {
     "name": "stdout",
     "output_type": "stream",
     "text": [
      "W =  64079929.48307855\n",
      "Error =  0.025936838918349095\n"
     ]
    }
   ],
   "source": [
    "kB = 1.38064852 * 10**-23 # Units: m^2 kg s^-2 K^-1\n",
    "T = 5800 # Units: K\n",
    "c = 3 * 10**8 # Units: m/s\n",
    "hBar = 1.054571800 * 10**-34 # Units: J*s\n",
    "a = 0\n",
    "b = np.inf\n",
    "\n",
    "def integrand (x):\n",
    "    return (math.exp(-x) * x*x*x) / (1 - math.exp(-x))\n",
    "\n",
    "integral, error = integrate.quad(integrand, a, b)\n",
    "\n",
    "W = ((kB**4 * T**4) / (4 * math.pi**2 * c**2 * hBar**3)) * integral\n",
    "WErr = ((kB**4 * T**4) / (4 * math.pi**2 * c**2 * hBar**3)) * error\n",
    "\n",
    "print(\"W = \", W)\n",
    "print(\"Error = \", WErr)"
   ]
  },
  {
   "cell_type": "markdown",
   "metadata": {},
   "source": [
    "Part c)"
   ]
  },
  {
   "cell_type": "code",
   "execution_count": 14,
   "metadata": {},
   "outputs": [
    {
     "name": "stdout",
     "output_type": "stream",
     "text": [
      "Calculated value:  5.662523937010056e-08\n",
      "Actual value:  5.67e-08\n"
     ]
    }
   ],
   "source": [
    "rho = W / T**4\n",
    "rhoAccepted = 5.67 * 10**-8 # W/m^2K^-4\n",
    "\n",
    "print(\"Calculated value: \", rho)\n",
    "print(\"Actual value: \", rhoAccepted)"
   ]
  },
  {
   "cell_type": "markdown",
   "metadata": {},
   "source": [
    "## Exercise 5.19: Diffraction Gratings"
   ]
  },
  {
   "cell_type": "markdown",
   "metadata": {},
   "source": [
    "Part a)"
   ]
  },
  {
   "cell_type": "markdown",
   "metadata": {},
   "source": [
    "\\begin{equation*}\n",
    "u_z = \\frac{n\\pi}{\\alpha}\n",
    "\\end{equation*}"
   ]
  },
  {
   "cell_type": "markdown",
   "metadata": {},
   "source": [
    "Part b)"
   ]
  },
  {
   "cell_type": "code",
   "execution_count": 97,
   "metadata": {
    "collapsed": true
   },
   "outputs": [],
   "source": [
    "alpha = math.pi / 20e-6 # Units: meters^-1\n",
    "\n",
    "def q (u):\n",
    "    return (math.sin(alpha * u))**2"
   ]
  },
  {
   "cell_type": "markdown",
   "metadata": {},
   "source": [
    "Part c)"
   ]
  },
  {
   "cell_type": "code",
   "execution_count": 107,
   "metadata": {},
   "outputs": [],
   "source": [
    "lmda = 500e-9 # Units: m\n",
    "f = 1 # Units: m\n",
    "wScreen = 0.1 # Units: m\n",
    "wGrating = 200e-6\n",
    "N = 100\n",
    "   \n",
    "def I1 (x):\n",
    "    \n",
    "    def integrand2 (u1):\n",
    "        return math.sqrt(q(u1)) * cmath.exp((1j * 2 * math.pi * x * u1) / (lmda * f))\n",
    "    \n",
    "    def simpson (func, numSteps, x1, x2):\n",
    "        h = (x2 - x1) / numSteps\n",
    "        sum = func (x1) + func (x2)\n",
    "\n",
    "        for i in range (int (numSteps / 2)):\n",
    "            sum += 4 * func (x1 + (2 * i - 1) * h) #odd terms\n",
    "            sum += 2 * func (x1 + 2 * i * h) #even terms\n",
    "            \n",
    "        return sum * h / 3\n",
    "\n",
    "    integral = simpson(integrand2, N, -wGrating/2, wGrating/2)\n",
    "    intensity = abs(integral)**2\n",
    "    \n",
    "    return intensity"
   ]
  },
  {
   "cell_type": "code",
   "execution_count": 108,
   "metadata": {},
   "outputs": [
    {
     "data": {
      "image/png": "[encoded data removed]",
      "text/plain": [
       "<matplotlib.figure.Figure at 0x86a5978>"
      ]
     },
     "metadata": {},
     "output_type": "display_data"
    }
   ],
   "source": [
    "steps = 1000\n",
    "xValues = np.linspace (-0.05, 0.05, steps)\n",
    "brightness = []\n",
    "\n",
    "for i in xValues:\n",
    "    brightness.append(I1 (i))\n",
    "\n",
    "plt.plot(xValues, brightness)\n",
    "plt.show()"
   ]
  },
  {
   "cell_type": "code",
   "execution_count": null,
   "metadata": {
    "collapsed": true
   },
   "outputs": [],
   "source": []
  }
 ],
 "metadata": {
  "kernelspec": {
   "display_name": "Python 3",
   "language": "python",
   "name": "python3"
  },
  "language_info": {
   "codemirror_mode": {
    "name": "ipython",
    "version": 3
   },
   "file_extension": ".py",
   "mimetype": "text/x-python",
   "name": "python",
   "nbconvert_exporter": "python",
   "pygments_lexer": "ipython3",
   "version": "3.4.5"
  }
 },
 "nbformat": 4,
 "nbformat_minor": 2
}
