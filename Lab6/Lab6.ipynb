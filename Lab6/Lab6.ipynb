{
 "cells": [
  {
   "cell_type": "markdown",
   "metadata": {},
   "source": [
    "# Lab 6"
   ]
  },
  {
   "cell_type": "markdown",
   "metadata": {},
   "source": [
    "## Exercise 5.12: The Stefan-Boltzmann Constant"
   ]
  },
  {
   "cell_type": "markdown",
   "metadata": {},
   "source": [
    "Part a)\n",
    "\n",
    "\\begin{equation*}\n",
    "I(\\omega) = \\frac{\\hbar}{4\\pi^2c^2} \\frac{\\omega}{e^k{\\frac{\\hbar\\omega}{k_BT}}}\n",
    "\\end{equation*}\n",
    "\n",
    "\\begin{equation*}\n",
    "W =\\int_{0}^{\\infty} \\frac{\\hbar}{4\\pi^2c^2} \\frac{\\omega}{e^k{\\frac{\\hbar\\omega}{k_BT}}}d\\omega\n",
    "\\end{equation*}\n",
    "\n",
    "\\begin{equation*}\n",
    "x = \\frac{\\hbar\\omega}{k_BT}\n",
    "\\end{equation*}\n",
    "\n",
    "\\begin{equation*}\n",
    "dx = \\frac{\\hbar d\\omega}{k_BT} \\space \\space d\\omega = \\frac{k_BTdx}{\\hbar}\n",
    "\\end{equation*}\n",
    "\n",
    "\\begin{equation*}\n",
    "W =\\int_{0}^{\\infty} \\frac{\\hbar}{4\\pi^2c^2} \\frac{(\\frac{xk_bT}{\\hbar})^3}{e^x}\\frac{k_BT}{\\hbar}dx\n",
    "\\end{equation*}\n",
    "\n",
    "\\begin{equation*}\n",
    "W =\\frac{k_b^4T^4}{4\\pi^2c^2\\hbar^3}\\int_{0}^{\\infty}\\frac{x^3}{e^x}dx\n",
    "\\end{equation*}\n"
   ]
  },
  {
   "cell_type": "markdown",
   "metadata": {},
   "source": [
    "Part b)"
   ]
  },
  {
   "cell_type": "code",
   "execution_count": 2,
   "metadata": {
    "collapsed": true
   },
   "outputs": [],
   "source": [
    "%matplotlib inline\n",
    "from scipy import integrate\n",
    "import math\n",
    "import cmath\n",
    "import numpy as np\n",
    "import pylab as plt"
   ]
  },
  {
   "cell_type": "code",
   "execution_count": 63,
   "metadata": {},
   "outputs": [
    {
     "name": "stdout",
     "output_type": "stream",
     "text": [
      "W =  64079929.48307855\n",
      "Error =  0.025936838918349095\n"
     ]
    }
   ],
   "source": [
    "kB = 1.38064852 * 10**-23 # Units: m^2 kg s^-2 K^-1\n",
    "T = 5800 # Units: K\n",
    "c = 3 * 10**8 # Units: m/s\n",
    "hBar = 1.054571800 * 10**-34 # Units: J*s\n",
    "a = 0\n",
    "b = np.inf\n",
    "\n",
    "def integrand (x):\n",
    "    \"\"\"Returns the integrand that is to be integrated\n",
    "    \n",
    "    Arguements: x - (hbar*omega)/(kB*T)\n",
    "    \n",
    "    Returned: x^3/e^x\"\"\"\n",
    "    \n",
    "    # This order of operations was necessary to avoid overflowing\n",
    "    return (math.exp(-x) * x*x*x) / (1 - math.exp(-x)) \n",
    "\n",
    "# Uses the quad function to calculate integral and error\n",
    "integral, error = integrate.quad(integrand, a, b)\n",
    "\n",
    "W = ((kB**4 * T**4) / (4 * math.pi**2 * c**2 * hBar**3)) * integral\n",
    "WErr = ((kB**4 * T**4) / (4 * math.pi**2 * c**2 * hBar**3)) * error\n",
    "\n",
    "print(\"W = \", W)\n",
    "print(\"Error = \", WErr)"
   ]
  },
  {
   "cell_type": "markdown",
   "metadata": {},
   "source": [
    "Part c)"
   ]
  },
  {
   "cell_type": "code",
   "execution_count": 14,
   "metadata": {},
   "outputs": [
    {
     "name": "stdout",
     "output_type": "stream",
     "text": [
      "Calculated value:  5.662523937010056e-08\n",
      "Actual value:  5.67e-08\n"
     ]
    }
   ],
   "source": [
    "rho = W / T**4\n",
    "rhoAccepted = 5.67 * 10**-8 # W/m^2K^-4\n",
    "\n",
    "# Compares the caluclated value to the actual value\n",
    "print(\"Calculated value: \", rho)\n",
    "print(\"Actual value: \", rhoAccepted)"
   ]
  },
  {
   "cell_type": "markdown",
   "metadata": {},
   "source": [
    "## Exercise 5.19: Diffraction Gratings"
   ]
  },
  {
   "cell_type": "markdown",
   "metadata": {},
   "source": [
    "Part a)"
   ]
  },
  {
   "cell_type": "markdown",
   "metadata": {},
   "source": [
    "\\begin{equation*}\n",
    "u_z = \\frac{n\\pi}{\\alpha}\n",
    "\\end{equation*}"
   ]
  },
  {
   "cell_type": "markdown",
   "metadata": {},
   "source": [
    "This is because $sin^2(\\alpha u)$ = 0 whenever u is a multiple of $\\pi$."
   ]
  },
  {
   "cell_type": "markdown",
   "metadata": {},
   "source": [
    "Part b)"
   ]
  },
  {
   "cell_type": "code",
   "execution_count": 5,
   "metadata": {
    "collapsed": true
   },
   "outputs": [],
   "source": [
    "alpha = math.pi / 20e-6 # Units: meters^-1\n",
    "\n",
    "def q (u):\n",
    "    \"\"\"Returns the transmission function of the light\n",
    "    \n",
    "    Arguements: u - the distnance on the grating from the central axis\n",
    "    \n",
    "    Returned: sin^2(alpha * u)\"\"\"\n",
    "\n",
    "    return (math.sin(alpha * u))**2"
   ]
  },
  {
   "cell_type": "markdown",
   "metadata": {},
   "source": [
    "Part c)"
   ]
  },
  {
   "cell_type": "code",
   "execution_count": 6,
   "metadata": {
    "collapsed": true
   },
   "outputs": [],
   "source": [
    "lmda = 500e-9 #Light wavelength, Units: m\n",
    "f = 1 # Focal length of lens, Units: m\n",
    "wScreen = 0.1 # Width of the screen, Units: m\n",
    "wGrating = 200e-6 # Seperation between slits, Units: m\n",
    "N = 1000\n",
    "   \n",
    "def I1 (transmissionFunction, x):\n",
    "    \"\"\"Returns the intensity of the light at a position on the screen\n",
    "    \n",
    "    Arguements: transmissionFunction - the transmission function of the light\n",
    "                x - the position along the screen\n",
    "    \n",
    "    Returned: The intensity of the light at x\"\"\"\n",
    "    \n",
    "    def integrand2 (u1):\n",
    "        \"\"\"Returns the integrand used to calcualte intensity\n",
    "        \n",
    "        Arguements: u1 - the distance on the grating from the central axis\n",
    "        \n",
    "        Returned: the integrand used to calcualte intensity\"\"\"\n",
    "        \n",
    "        return math.sqrt(transmissionFunction(u1)) * cmath.exp((1j * 2 * math.pi * x * u1) / (lmda * f))\n",
    "    \n",
    "    def simpson (func, numSteps, x1, x2):\n",
    "        \"\"\"Integrates using Simpson's rule\n",
    "        \n",
    "        Arguements: func - the function to be integrated\n",
    "                    numSteps - the number of steps used for integration\n",
    "                    x1 - the lower bound\n",
    "                    x2 - the upper bound\n",
    "                    \n",
    "        Returned: The integral of func\"\"\"\n",
    "        \n",
    "        h = (x2 - x1) / numSteps\n",
    "        sum = func (x1) + func (x2)\n",
    "\n",
    "        for i in range (int (numSteps / 2)):\n",
    "            sum += 4 * func (x1 + (2 * i - 1) * h) #odd terms\n",
    "            sum += 2 * func (x1 + 2 * i * h) #even terms\n",
    "            \n",
    "        return sum * h / 3\n",
    "\n",
    "    integral = simpson(integrand2, N, -wGrating/2, wGrating/2)\n",
    "    intensity = abs(integral)**2\n",
    "    \n",
    "    return intensity"
   ]
  },
  {
   "cell_type": "markdown",
   "metadata": {},
   "source": [
    "Part d)"
   ]
  },
  {
   "cell_type": "code",
   "execution_count": 9,
   "metadata": {},
   "outputs": [
    {
     "data": {
      "image/png": "[encoded data removed]",
      "text/plain": [
       "<matplotlib.figure.Figure at 0x12bffc06588>"
      ]
     },
     "metadata": {},
     "output_type": "display_data"
    }
   ],
   "source": [
    "steps = 1000\n",
    "xValues = np.linspace (-0.05, 0.05, steps)\n",
    "brightness = []\n",
    "\n",
    "# Calculates the intensity of light along the screen\n",
    "for i in xValues:\n",
    "    brightness.append(I1 (q, i))\n",
    "\n",
    "plt.plot(xValues, brightness)\n",
    "plt.title(\"Diffraction Pattern With Transmission = $sin^2(alpha * u)$\")\n",
    "plt.xlabel(\"Position on Screen (m)\")\n",
    "plt.ylabel(\"Intensity of Light (Watts/$m^2$)\")\n",
    "plt.show()"
   ]
  },
  {
   "cell_type": "markdown",
   "metadata": {},
   "source": [
    "This plot shows the intensity of light along the length of the screen. The light ($\\lambda = 500nm$) is incident on a diffraction grating with slits separated by $20 \\mu m$, and then a lens with a focal length of 1 meter. The transmission pattern function is $q(u) = sin^2(\\alpha u)$ where $\\alpha = 20\\mu m$. The plot is a representation of the diffraction pattern on the screen. This pattern makes sense, because it peaks in the middle, and it is symmetrical. This is consistent with what we see from experimental trials of light interference."
   ]
  },
  {
   "cell_type": "markdown",
   "metadata": {
    "collapsed": true
   },
   "source": [
    "Part e)"
   ]
  },
  {
   "cell_type": "code",
   "execution_count": 10,
   "metadata": {},
   "outputs": [
    {
     "data": {
      "image/png": "[encoded data removed]",
      "text/plain": [
       "<matplotlib.figure.Figure at 0x12b846e15c0>"
      ]
     },
     "metadata": {},
     "output_type": "display_data"
    }
   ],
   "source": [
    "alpha = math.pi / 20e-6 # Units: meters^-1\n",
    "beta = alpha / 2\n",
    "\n",
    "def q2(u):\n",
    "    \"\"\"Returns the new transmission function of the light\n",
    "    \n",
    "    Arguements: u - the distnance on the grating from the central axis\n",
    "    \n",
    "    Returned: sin^2(alpha * u) * cos^2(beta * u)\"\"\"\n",
    "    \n",
    "    return (math.sin(alpha * u))**2 * (math.sin(beta * u))**2\n",
    "\n",
    "brightness = []\n",
    "\n",
    "# Calculates the intensity of light along the screen with the new function\n",
    "for i in xValues:\n",
    "    brightness.append(I1 (q2, i))\n",
    "\n",
    "plt.plot(xValues, brightness)\n",
    "plt.title(\"Diffraction Pattern With Transmission = $sin^2(alpha u) * sin^2(beta u)$\")\n",
    "plt.xlabel(\"Position on Screen (m)\")\n",
    "plt.ylabel(\"Intensity of Light (Watts/$m^2$)\")\n",
    "plt.show()"
   ]
  },
  {
   "cell_type": "markdown",
   "metadata": {
    "collapsed": true
   },
   "source": [
    "This plot shows the diffraction pattern on a screen, with all the same parameters as the plot above, except for the transmission pattern. The transmission pattern for this plot is $q(u) = sin^2(\\alpha u)sin^2(\\beta u)$. The resulting pattern that we see on the plot makes sense, because it is also symmetrical, but there are more peaks, and this is expected, because there is now more than one factor in the transmission equation."
   ]
  },
  {
   "cell_type": "code",
   "execution_count": null,
   "metadata": {
    "collapsed": true
   },
   "outputs": [],
   "source": []
  }
 ],
 "metadata": {
  "kernelspec": {
   "display_name": "Python 3",
   "language": "python",
   "name": "python3"
  },
  "language_info": {
   "codemirror_mode": {
    "name": "ipython",
    "version": 3
   },
   "file_extension": ".py",
   "mimetype": "text/x-python",
   "name": "python",
   "nbconvert_exporter": "python",
   "pygments_lexer": "ipython3",
   "version": "3.6.3"
  }
 },
 "nbformat": 4,
 "nbformat_minor": 2
}
