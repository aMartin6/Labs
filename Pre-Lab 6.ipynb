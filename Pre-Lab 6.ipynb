{
 "cells": [
  {
   "cell_type": "markdown",
   "metadata": {},
   "source": [
    "# Pre-Lab 6"
   ]
  },
  {
   "cell_type": "markdown",
   "metadata": {},
   "source": [
    "## Chapter 15 on Runestone"
   ]
  },
  {
   "cell_type": "markdown",
   "metadata": {},
   "source": [
    "* **Recursion** is a method of probelm solving where a problem is broken down into small enough pieces that they become trivial. These often involve functions calling themselves.\n",
    "* A simple example is using for loops to calculate sums.\n",
    "* We can do this without using a for loop by adding two numbers in a list together at a time.\n",
    "    * This can be done using a function that calls itself as long as the length of the list is not equal to 1. \n",
    "* When a function calls itself, its called a **recursive call.** It continues calling itself until the calcualtion can no longer be broken down, and then it peices itself back together. \n",
    "* The three laws of recursion are:\n",
    "    * The algorithm must have a base case.\n",
    "    * The algirithm must change its state and move toward the base case.\n",
    "    * The algirithm must call itself recursively.\n",
    "* This method can be used to convert integers into strings. We need a convert string to do this. \n",
    "    * The base case will be when the integer is a single digit. \n",
    "    * The change of state will be integer division, where the remainder is stored.\n",
    "* We can convert an integer to binary if we use base 2 for integer division.\n",
    "* We can use recursion to create fractals. This can be visualized using the turtle program.\n",
    "    * For fractals the base case is chosen arbitrarily, because in theory, fractals go on forever. "
   ]
  },
  {
   "cell_type": "code",
   "execution_count": null,
   "metadata": {
    "collapsed": true
   },
   "outputs": [],
   "source": []
  }
 ],
 "metadata": {
  "kernelspec": {
   "display_name": "Python 3",
   "language": "python",
   "name": "python3"
  },
  "language_info": {
   "codemirror_mode": {
    "name": "ipython",
    "version": 3
   },
   "file_extension": ".py",
   "mimetype": "text/x-python",
   "name": "python",
   "nbconvert_exporter": "python",
   "pygments_lexer": "ipython3",
   "version": "3.6.3"
  }
 },
 "nbformat": 4,
 "nbformat_minor": 2
}
