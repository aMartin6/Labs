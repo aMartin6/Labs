{
 "cells": [
  {
   "cell_type": "markdown",
   "metadata": {},
   "source": [
    "# Pre-lab3"
   ]
  },
  {
   "cell_type": "code",
   "execution_count": 5,
   "metadata": {
    "collapsed": true
   },
   "outputs": [],
   "source": [
    "#1\n",
    "from pylab import exp\n",
    "def populationExact(Ni, r, time):\n",
    "    \"\"\" Accepts an initial value of nuclei, a lambda value, and a time, and returns the final amount of nuclei.\n",
    "    The arguements are the initial value of nuclei, the lambda value, and the time of decay. The result is the exact \n",
    "    final number if nucei\"\"\"\n",
    "    N = Ni * exp(-time*r)\n",
    "    return N"
   ]
  },
  {
   "cell_type": "code",
   "execution_count": 14,
   "metadata": {},
   "outputs": [],
   "source": [
    "#2\n",
    "from numpy import linspace\n",
    "def populationApprox(Ni, r, time):\n",
    "    \"\"\" Accepts an initial value of nuclei, a lambda value, and a time, and returns the final amount of nuclei.\n",
    "    The arguements are the initial value of nuclei, the lambda value, and the time of decay. The result is the approximate\n",
    "    final number if nucei\"\"\"\n",
    "    ti = 0\n",
    "    N = []\n",
    "    NOld = 0\n",
    "    for instant in time:\n",
    "        t = instant\n",
    "        N.append(Ni+(-r*NOld)*(t-ti))\n",
    "        ti = instant\n",
    "        NOld = N\n",
    "    \n",
    "    return N"
   ]
  },
  {
   "cell_type": "code",
   "execution_count": 16,
   "metadata": {},
   "outputs": [
    {
     "data": {
      "image/png": "[encoded data removed]",
      "text/plain": [
       "<matplotlib.figure.Figure at 0x29b60a18b70>"
      ]
     },
     "metadata": {},
     "output_type": "display_data"
    }
   ],
   "source": [
    "#4\n",
    "from pylab import plot, linspace, show, xlabel, ylabel, array\n",
    "time = linspace(0,100,100)\n",
    "N = populationExact(100,0.1,time)\n",
    "plot(time, N)\n",
    "xlabel(\"Time\")\n",
    "ylabel(\"Number of Nuclei\")\n",
    "show()"
   ]
  },
  {
   "cell_type": "code",
   "execution_count": null,
   "metadata": {
    "collapsed": true
   },
   "outputs": [],
   "source": []
  }
 ],
 "metadata": {
  "kernelspec": {
   "display_name": "Python 3",
   "language": "python",
   "name": "python3"
  },
  "language_info": {
   "codemirror_mode": {
    "name": "ipython",
    "version": 3
   },
   "file_extension": ".py",
   "mimetype": "text/x-python",
   "name": "python",
   "nbconvert_exporter": "python",
   "pygments_lexer": "ipython3",
   "version": "3.6.3"
  }
 },
 "nbformat": 4,
 "nbformat_minor": 2
}
