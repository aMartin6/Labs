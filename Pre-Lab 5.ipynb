{
 "cells": [
  {
   "cell_type": "markdown",
   "metadata": {},
   "source": [
    "# Pre-lab 5"
   ]
  },
  {
   "cell_type": "markdown",
   "metadata": {},
   "source": [
    "## Section 8.1"
   ]
  },
  {
   "cell_type": "markdown",
   "metadata": {},
   "source": [
    "* **Ordinary differential equations** are equations where there is only one independant variable, and all other variables only depend on that independant variable.\n",
    "    * The general form is dx/dt = f(x,t)\n",
    "* **Nonlinear** funcitons include nonlinear functions of the dependant variable in the differential equation. These can rarely be solved analytically, but they can be solved numerically.\n",
    "    * Ex: dx/dt = -x^3 + sin(t)\n",
    "* Usually in physics, t is the independant variable.\n",
    "* To calcualte a solution, we need a boundary condition, or initial condition. For example, the value of x at time t = 0."
   ]
  },
  {
   "cell_type": "markdown",
   "metadata": {},
   "source": [
    "### Section 8.1.1"
   ]
  },
  {
   "cell_type": "markdown",
   "metadata": {},
   "source": [
    "* Given an initial condition, we can write the value of x over an interval h as a taylor expansion.\n",
    "* If h is small, we can approximate x(t+h) = x(t) + hf(x,t), with error O(h^2).\n",
    "* To calcualte the function over a larger integral repeat this with the next interval h, and keep looping. This gives us a finite set of points. \n",
    "* This method is called **Euler's method.**\n",
    "* Euler's method isn't necessarily ideal, as it is an approximation, because we are neglecting O(h^2).\n",
    "* Since there are many small intervals, the total error of the interval is the sum of all the individual errors, but it is still small if h is small.\n",
    "* Doubling accuracy requires doubling N, which doubles the calculation time.\n",
    "* The Runge-Kutta Method is much better for solving the same problems."
   ]
  },
  {
   "cell_type": "markdown",
   "metadata": {},
   "source": [
    "### Example 8.1"
   ]
  },
  {
   "cell_type": "code",
   "execution_count": 4,
   "metadata": {},
   "outputs": [
    {
     "data": {
      "image/png": "[encoded data removed]",
      "text/plain": [
       "<matplotlib.figure.Figure at 0x1b3110715f8>"
      ]
     },
     "metadata": {},
     "output_type": "display_data"
    }
   ],
   "source": [
    "from math import sin\n",
    "from numpy import arange\n",
    "from pylab import plot, xlabel, ylabel, show\n",
    "\n",
    "# Defines differential funciton to be approximated: dx/dt = -x^3 + sin(t)\n",
    "def f(x,t):\n",
    "    return -x**3 + sin(t)\n",
    "\n",
    "# Sets interval, number and size of steps, and boundary condition\n",
    "a = 0.0\n",
    "b = 10.0\n",
    "N = 1000\n",
    "h = (b-a)/N\n",
    "x = 0.0\n",
    "\n",
    "# Creates array of x values\n",
    "tpoints = arange(a,b,h)\n",
    "xpoints = []\n",
    "\n",
    "# Calculates array of y values using Euler's formula\n",
    "for t in tpoints: \n",
    "    xpoints.append(x)\n",
    "    x += h*f(x,t)\n",
    "    \n",
    "plot(tpoints,xpoints)\n",
    "xlabel(\"t\")\n",
    "ylabel(\"x(t)\")\n",
    "show()"
   ]
  },
  {
   "cell_type": "code",
   "execution_count": null,
   "metadata": {
    "collapsed": true
   },
   "outputs": [],
   "source": []
  }
 ],
 "metadata": {
  "kernelspec": {
   "display_name": "Python 3",
   "language": "python",
   "name": "python3"
  },
  "language_info": {
   "codemirror_mode": {
    "name": "ipython",
    "version": 3
   },
   "file_extension": ".py",
   "mimetype": "text/x-python",
   "name": "python",
   "nbconvert_exporter": "python",
   "pygments_lexer": "ipython3",
   "version": "3.6.3"
  }
 },
 "nbformat": 4,
 "nbformat_minor": 2
}
